{
  "nbformat": 4,
  "nbformat_minor": 0,
  "metadata": {
    "colab": {
      "name": "Vine_Review_Analysis.ipynb",
      "provenance": [],
      "authorship_tag": "ABX9TyMEXxOQtlnoM01KCKSUK3yx",
      "include_colab_link": true
    },
    "kernelspec": {
      "name": "python3",
      "display_name": "Python 3"
    },
    "language_info": {
      "name": "python"
    }
  },
  "cells": [
    {
      "cell_type": "markdown",
      "metadata": {
        "id": "view-in-github",
        "colab_type": "text"
      },
      "source": [
        "<a href=\"https://colab.research.google.com/github/murphyk2021/Amazon_Vine_Analysis/blob/main/Vine_Review_Analysis.ipynb\" target=\"_parent\"><img src=\"https://colab.research.google.com/assets/colab-badge.svg\" alt=\"Open In Colab\"/></a>"
      ]
    },
    {
      "cell_type": "code",
      "metadata": {
        "colab": {
          "base_uri": "https://localhost:8080/"
        },
        "id": "tapGG-lg8xSq",
        "outputId": "ffd81cba-3a70-4aed-f41d-eeee7fce180a"
      },
      "source": [
        "import os\n",
        "# Find the latest version of spark 3.0 from http://www.apache.org/dist/spark/ and enter as the spark version\n",
        "# For example:\n",
        "# spark_version = 'spark-3.0.3'\n",
        "spark_version = 'spark-3.1.2'\n",
        "os.environ['SPARK_VERSION']=spark_version\n",
        "\n",
        "# Install Spark and Java\n",
        "!apt-get update\n",
        "!apt-get install openjdk-11-jdk-headless -qq > /dev/null\n",
        "!wget -q http://www.apache.org/dist/spark/$SPARK_VERSION/$SPARK_VERSION-bin-hadoop2.7.tgz\n",
        "!tar xf $SPARK_VERSION-bin-hadoop2.7.tgz\n",
        "!pip install -q findspark\n",
        "\n",
        "# Set Environment Variables\n",
        "import os\n",
        "os.environ[\"JAVA_HOME\"] = \"/usr/lib/jvm/java-11-openjdk-amd64\"\n",
        "os.environ[\"SPARK_HOME\"] = f\"/content/{spark_version}-bin-hadoop2.7\"\n",
        "\n",
        "# Start a SparkSession\n",
        "import findspark\n",
        "findspark.init()"
      ],
      "execution_count": 1,
      "outputs": [
        {
          "output_type": "stream",
          "text": [
            "\r0% [Working]\r            \rGet:1 http://security.ubuntu.com/ubuntu bionic-security InRelease [88.7 kB]\n",
            "Get:2 https://cloud.r-project.org/bin/linux/ubuntu bionic-cran40/ InRelease [3,626 B]\n",
            "Ign:3 https://developer.download.nvidia.com/compute/cuda/repos/ubuntu1804/x86_64  InRelease\n",
            "Ign:4 https://developer.download.nvidia.com/compute/machine-learning/repos/ubuntu1804/x86_64  InRelease\n",
            "Get:5 https://developer.download.nvidia.com/compute/cuda/repos/ubuntu1804/x86_64  Release [697 B]\n",
            "Hit:6 https://developer.download.nvidia.com/compute/machine-learning/repos/ubuntu1804/x86_64  Release\n",
            "Get:7 http://ppa.launchpad.net/c2d4u.team/c2d4u4.0+/ubuntu bionic InRelease [15.9 kB]\n",
            "Get:8 https://developer.download.nvidia.com/compute/cuda/repos/ubuntu1804/x86_64  Release.gpg [836 B]\n",
            "Hit:9 http://archive.ubuntu.com/ubuntu bionic InRelease\n",
            "Get:10 http://archive.ubuntu.com/ubuntu bionic-updates InRelease [88.7 kB]\n",
            "Get:11 https://cloud.r-project.org/bin/linux/ubuntu bionic-cran40/ Packages [66.2 kB]\n",
            "Hit:12 http://ppa.launchpad.net/cran/libgit2/ubuntu bionic InRelease\n",
            "Get:13 http://ppa.launchpad.net/deadsnakes/ppa/ubuntu bionic InRelease [15.9 kB]\n",
            "Get:14 http://archive.ubuntu.com/ubuntu bionic-backports InRelease [74.6 kB]\n",
            "Get:15 http://security.ubuntu.com/ubuntu bionic-security/multiverse amd64 Packages [26.7 kB]\n",
            "Get:16 http://security.ubuntu.com/ubuntu bionic-security/restricted amd64 Packages [510 kB]\n",
            "Get:17 http://ppa.launchpad.net/graphics-drivers/ppa/ubuntu bionic InRelease [21.3 kB]\n",
            "Get:18 http://security.ubuntu.com/ubuntu bionic-security/universe amd64 Packages [1,421 kB]\n",
            "Get:19 http://security.ubuntu.com/ubuntu bionic-security/main amd64 Packages [2,263 kB]\n",
            "Ign:21 https://developer.download.nvidia.com/compute/cuda/repos/ubuntu1804/x86_64  Packages\n",
            "Get:21 https://developer.download.nvidia.com/compute/cuda/repos/ubuntu1804/x86_64  Packages [695 kB]\n",
            "Get:22 http://ppa.launchpad.net/c2d4u.team/c2d4u4.0+/ubuntu bionic/main Sources [1,790 kB]\n",
            "Get:23 http://archive.ubuntu.com/ubuntu bionic-updates/universe amd64 Packages [2,196 kB]\n",
            "Get:24 http://ppa.launchpad.net/c2d4u.team/c2d4u4.0+/ubuntu bionic/main amd64 Packages [916 kB]\n",
            "Get:25 http://archive.ubuntu.com/ubuntu bionic-updates/multiverse amd64 Packages [39.4 kB]\n",
            "Get:26 http://archive.ubuntu.com/ubuntu bionic-updates/main amd64 Packages [2,699 kB]\n",
            "Get:27 http://archive.ubuntu.com/ubuntu bionic-updates/restricted amd64 Packages [544 kB]\n",
            "Get:28 http://ppa.launchpad.net/deadsnakes/ppa/ubuntu bionic/main amd64 Packages [40.9 kB]\n",
            "Get:29 http://ppa.launchpad.net/graphics-drivers/ppa/ubuntu bionic/main amd64 Packages [44.1 kB]\n",
            "Fetched 13.6 MB in 5s (2,479 kB/s)\n",
            "Reading package lists... Done\n"
          ],
          "name": "stdout"
        }
      ]
    },
    {
      "cell_type": "code",
      "metadata": {
        "id": "uW0WP7E4870o"
      },
      "source": [
        "from pyspark.sql import SparkSession\n",
        "spark = SparkSession.builder.appName(\"M16-Amazon-Challenge\").config(\"spark.driver.extraClassPath\",\"/content/postgresql-42.2.16.jar\").getOrCreate()"
      ],
      "execution_count": 2,
      "outputs": []
    },
    {
      "cell_type": "code",
      "metadata": {
        "colab": {
          "base_uri": "https://localhost:8080/"
        },
        "id": "m6uorgHz8-Sc",
        "outputId": "40b426df-b7a8-4a80-9915-0863d6ceb06d"
      },
      "source": [
        "from pyspark import SparkFiles\n",
        "url = \"https://s3.amazonaws.com/amazon-reviews-pds/tsv/amazon_reviews_us_Tools_v1_00.tsv.gz\"\n",
        "spark.sparkContext.addFile(url)\n",
        "df = spark.read.option(\"encoding\", \"UTF-8\").csv(SparkFiles.get(\"\"), sep=\"\\t\", header=True, inferSchema=True)\n",
        "df.show()"
      ],
      "execution_count": 3,
      "outputs": [
        {
          "output_type": "stream",
          "text": [
            "+-----------+-----------+--------------+----------+--------------+--------------------+----------------+-----------+-------------+-----------+----+-----------------+--------------------+--------------------+-----------+\n",
            "|marketplace|customer_id|     review_id|product_id|product_parent|       product_title|product_category|star_rating|helpful_votes|total_votes|vine|verified_purchase|     review_headline|         review_body|review_date|\n",
            "+-----------+-----------+--------------+----------+--------------+--------------------+----------------+-----------+-------------+-----------+----+-----------------+--------------------+--------------------+-----------+\n",
            "|         US|   15785389|R2UM5QMHBHC90Q|B00H5U9ZD6|     115362950|WallPeg 12 sq ft ...|           Tools|          5|            0|          0|   N|                Y|Great organizer, ...|Very nice. Will o...| 2015-08-31|\n",
            "|         US|   47910848|  RF0D1LEIF6L7|B001TJGCS0|     570955425|Nite Ize Nite Daw...|           Tools|          4|            0|          0|   N|                Y|Like it, but the ...|Like it, but the ...| 2015-08-31|\n",
            "|         US|   36328996|  RM6YKIWQVNSY|B000NIK8JW|     128843593|Stanley 84-058 4 ...|           Tools|          1|            6|          6|   N|                Y|        poor quality|We were excited t...| 2015-08-31|\n",
            "|         US|   51785809|R1RL3L68ASPS36|B008ZYRGUA|     407828107|Powerextra 14.4V ...|           Tools|          4|            0|          0|   N|                Y|          Four Stars|Quick delivery. P...| 2015-08-31|\n",
            "|         US|   40757491|R1U4XFBFAG34CY|B00K5CA0GC|     490746675|Waterproof Invisi...|           Tools|          5|            0|          0|   N|                Y|          Five Stars|Quality waterproo...| 2015-08-31|\n",
            "|         US|   35544833|R3KFIK8P0I91PL|B00AIJAA94|     148352067|Crime Scene Do No...|           Tools|          5|            0|          0|   N|                Y|Excellent Decorat...|Ordered for my hu...| 2015-08-31|\n",
            "|         US|   16474909| RENOAY76PPK1O|B00JKEI6K8|     331801084|Aweek® 2 Pcs Bicy...|           Tools|          5|            0|          0|   N|                Y|          Five Stars|GREAT SELLER PROD...| 2015-08-31|\n",
            "|         US|   22601598| RINV884I0NL5V|B00AGCHVS6|     471514859|Ryobi P102 Genuin...|           Tools|          1|            0|          0|   N|                Y|Worked great for ...|My battery has di...| 2015-08-31|\n",
            "|         US|   16129808| R5KJH6CXZH2PX|B002S0O7U4|     162253576|Wiha 66995 6-Piec...|           Tools|          5|            0|          0|   N|                Y|       Great quality|Great product at ...| 2015-08-31|\n",
            "|         US|   24382335| RO69JF6QWD0W1|B0084YHXMW|      69530650|TOMTOP LED Submar...|           Tools|          5|            0|          0|   N|                Y|          Five Stars|           Excellent| 2015-08-31|\n",
            "|         US|   49796324|R3L9NQBH3FI55C|B00MLSS1SW|     916693555|Black & Decker BD...|           Tools|          4|            1|          1|   N|                Y|Really worked great!|This little sande...| 2015-08-31|\n",
            "|         US|   33289687| R4YH95YPHVU0C|B00D4WLS2A|      39333316|Crain 126 Staple ...|           Tools|          5|            0|          0|   N|                Y|         LOVE IT!!!!|This is the most ...| 2015-08-31|\n",
            "|         US|   10916386|R10M1WWDDQBGG2|B00JGCDV5Y|     550596607|Diamond Semi Roun...|           Tools|          2|            0|          0|   N|                Y|I needed to cut s...|I needed to cut s...| 2015-08-31|\n",
            "|         US|   34071500| RV3KWQBTNIO62|B00N0PS3YM|     735538025|It Mall 9 LED 375...|           Tools|          5|            1|          1|   N|                Y|   Works pretty well|Lights up small d...| 2015-08-31|\n",
            "|         US|   50594486|R1M7YUNLZI0G9F|B0000DD4KV|     506501960|IRWIN Tools Metri...|           Tools|          5|            1|          1|   N|                Y|          Five Stars|Great product for...| 2015-08-31|\n",
            "|         US|   21945887|R2MTL2D4E4HEF4|B0009H5FB8|     268586246|743022-A Backing ...|           Tools|          5|            0|          0|   N|                Y|          Five Stars|Many thanks for t...| 2015-08-31|\n",
            "|         US|   47749608| RXAHWIC1584UQ|B00NKSMPZW|     824618679|ClearArmor 141001...|           Tools|          5|           20|         23|   N|                Y|          Five Stars|geart product :) ...| 2015-08-31|\n",
            "|         US|   48880662| RMOIQFERVQDWS|B00RBAB92K|     156791442|KKmoon 9cm Mini A...|           Tools|          5|            0|          0|   N|                Y|          Five Stars|           very good| 2015-08-31|\n",
            "|         US|    4660265| R710G45MKODY9|B00QGBNZVI|     962324810|Refun E6 High Pow...|           Tools|          2|            1|          1|   N|                Y|           Two Stars|Scratches on lenses.| 2015-08-31|\n",
            "|         US|   18397238|R23ZIUGUM7TBMY|B00XXU3CDG|     543062309|Dr.meter S20 Mois...|           Tools|          1|            0|          1|   N|                Y|Don't waste your ...|It's a piece of $...| 2015-08-31|\n",
            "+-----------+-----------+--------------+----------+--------------+--------------------+----------------+-----------+-------------+-----------+----+-----------------+--------------------+--------------------+-----------+\n",
            "only showing top 20 rows\n",
            "\n"
          ],
          "name": "stdout"
        }
      ]
    },
    {
      "cell_type": "code",
      "metadata": {
        "colab": {
          "base_uri": "https://localhost:8080/"
        },
        "id": "3DxYkSZU9DxV",
        "outputId": "6ba7181f-6bf2-43e4-f432-95c67798429f"
      },
      "source": [
        "# Create the vine_table. DataFrame\n",
        "vine_df = df.select([\"review_id\", \"star_rating\", \"helpful_votes\", \"total_votes\", \"vine\", \"verified_purchase\"])\n",
        "vine_df.show()"
      ],
      "execution_count": 4,
      "outputs": [
        {
          "output_type": "stream",
          "text": [
            "+--------------+-----------+-------------+-----------+----+-----------------+\n",
            "|     review_id|star_rating|helpful_votes|total_votes|vine|verified_purchase|\n",
            "+--------------+-----------+-------------+-----------+----+-----------------+\n",
            "|R2UM5QMHBHC90Q|          5|            0|          0|   N|                Y|\n",
            "|  RF0D1LEIF6L7|          4|            0|          0|   N|                Y|\n",
            "|  RM6YKIWQVNSY|          1|            6|          6|   N|                Y|\n",
            "|R1RL3L68ASPS36|          4|            0|          0|   N|                Y|\n",
            "|R1U4XFBFAG34CY|          5|            0|          0|   N|                Y|\n",
            "|R3KFIK8P0I91PL|          5|            0|          0|   N|                Y|\n",
            "| RENOAY76PPK1O|          5|            0|          0|   N|                Y|\n",
            "| RINV884I0NL5V|          1|            0|          0|   N|                Y|\n",
            "| R5KJH6CXZH2PX|          5|            0|          0|   N|                Y|\n",
            "| RO69JF6QWD0W1|          5|            0|          0|   N|                Y|\n",
            "|R3L9NQBH3FI55C|          4|            1|          1|   N|                Y|\n",
            "| R4YH95YPHVU0C|          5|            0|          0|   N|                Y|\n",
            "|R10M1WWDDQBGG2|          2|            0|          0|   N|                Y|\n",
            "| RV3KWQBTNIO62|          5|            1|          1|   N|                Y|\n",
            "|R1M7YUNLZI0G9F|          5|            1|          1|   N|                Y|\n",
            "|R2MTL2D4E4HEF4|          5|            0|          0|   N|                Y|\n",
            "| RXAHWIC1584UQ|          5|           20|         23|   N|                Y|\n",
            "| RMOIQFERVQDWS|          5|            0|          0|   N|                Y|\n",
            "| R710G45MKODY9|          2|            1|          1|   N|                Y|\n",
            "|R23ZIUGUM7TBMY|          1|            0|          1|   N|                Y|\n",
            "+--------------+-----------+-------------+-----------+----+-----------------+\n",
            "only showing top 20 rows\n",
            "\n"
          ],
          "name": "stdout"
        }
      ]
    },
    {
      "cell_type": "code",
      "metadata": {
        "colab": {
          "base_uri": "https://localhost:8080/"
        },
        "id": "M6ikv0rz9U0c",
        "outputId": "0ca6d04c-581b-4b3c-f636-8b3c5c44e6ce"
      },
      "source": [
        "Vine_df_filtered=vine_df.filter('total_votes>=20')\n",
        "Vine_df_filtered.show()\n"
      ],
      "execution_count": 12,
      "outputs": [
        {
          "output_type": "stream",
          "text": [
            "+--------------+-----------+-------------+-----------+----+-----------------+\n",
            "|     review_id|star_rating|helpful_votes|total_votes|vine|verified_purchase|\n",
            "+--------------+-----------+-------------+-----------+----+-----------------+\n",
            "| RXAHWIC1584UQ|          5|           20|         23|   N|                Y|\n",
            "| RSBELAIC899DO|          5|           46|         51|   N|                Y|\n",
            "|R2HCC4CJ59D225|          4|           43|         43|   N|                Y|\n",
            "|R39BVCCVPRV6F5|          5|           10|         22|   N|                Y|\n",
            "| RL9VF9WXHEHKR|          5|           35|         36|   N|                Y|\n",
            "|R1ZINLWUOLTZ46|          1|           39|         45|   N|                N|\n",
            "|R1CQKM1K1CHOHS|          1|           21|         22|   N|                N|\n",
            "|R1ZG19X1NOLCRF|          5|            5|         21|   N|                Y|\n",
            "|R1YOX5Z4GF3ZSW|          1|            1|         22|   N|                Y|\n",
            "| R2DHAM7J1KMWN|          5|           23|         24|   N|                N|\n",
            "|R2KOLBXPW57WC3|          1|            4|         38|   N|                N|\n",
            "|R26EZ2INBETPU2|          1|          103|        128|   N|                N|\n",
            "|R265ZMDO2ISN1O|          5|           20|         21|   N|                Y|\n",
            "|R3NZ7JTOCPYE1S|          4|           32|         33|   N|                Y|\n",
            "|R3HQQ725T45NCH|          3|            9|         21|   N|                Y|\n",
            "|R15JJ5AGVSB71T|          5|           33|         33|   N|                Y|\n",
            "|R28WDBNT2XRACG|          1|           19|         24|   N|                Y|\n",
            "|R3HP224QDFQ2SN|          5|           21|         22|   N|                Y|\n",
            "| RTURVI4KNPMG1|          5|          146|        154|   N|                Y|\n",
            "| RH2BXZ337F38J|          5|           62|         66|   N|                Y|\n",
            "+--------------+-----------+-------------+-----------+----+-----------------+\n",
            "only showing top 20 rows\n",
            "\n"
          ],
          "name": "stdout"
        }
      ]
    },
    {
      "cell_type": "code",
      "metadata": {
        "colab": {
          "base_uri": "https://localhost:8080/"
        },
        "id": "EDn__V1_-j4o",
        "outputId": "344202c9-0167-4c21-e761-92b83d7d1088"
      },
      "source": [
        "Vine_helpful_df=Vine_df_filtered.filter('helpful_votes/total_votes>0.5')\n",
        "Vine_helpful_df.show()"
      ],
      "execution_count": 14,
      "outputs": [
        {
          "output_type": "stream",
          "text": [
            "+--------------+-----------+-------------+-----------+----+-----------------+\n",
            "|     review_id|star_rating|helpful_votes|total_votes|vine|verified_purchase|\n",
            "+--------------+-----------+-------------+-----------+----+-----------------+\n",
            "| RXAHWIC1584UQ|          5|           20|         23|   N|                Y|\n",
            "| RSBELAIC899DO|          5|           46|         51|   N|                Y|\n",
            "|R2HCC4CJ59D225|          4|           43|         43|   N|                Y|\n",
            "| RL9VF9WXHEHKR|          5|           35|         36|   N|                Y|\n",
            "|R1ZINLWUOLTZ46|          1|           39|         45|   N|                N|\n",
            "|R1CQKM1K1CHOHS|          1|           21|         22|   N|                N|\n",
            "| R2DHAM7J1KMWN|          5|           23|         24|   N|                N|\n",
            "|R26EZ2INBETPU2|          1|          103|        128|   N|                N|\n",
            "|R265ZMDO2ISN1O|          5|           20|         21|   N|                Y|\n",
            "|R3NZ7JTOCPYE1S|          4|           32|         33|   N|                Y|\n",
            "|R15JJ5AGVSB71T|          5|           33|         33|   N|                Y|\n",
            "|R28WDBNT2XRACG|          1|           19|         24|   N|                Y|\n",
            "|R3HP224QDFQ2SN|          5|           21|         22|   N|                Y|\n",
            "| RTURVI4KNPMG1|          5|          146|        154|   N|                Y|\n",
            "| RH2BXZ337F38J|          5|           62|         66|   N|                Y|\n",
            "|R3G8L2NRMZZHPI|          4|           23|         23|   N|                Y|\n",
            "|R21Q3I2ZEDSMZK|          5|           80|         84|   N|                Y|\n",
            "|R16MXXKY0MRKZW|          1|           48|         52|   N|                Y|\n",
            "|R121P6RES3Z7WC|          1|          145|        162|   N|                Y|\n",
            "|R1ILUNGUCRZGF3|          5|           21|         21|   N|                Y|\n",
            "+--------------+-----------+-------------+-----------+----+-----------------+\n",
            "only showing top 20 rows\n",
            "\n"
          ],
          "name": "stdout"
        }
      ]
    },
    {
      "cell_type": "code",
      "metadata": {
        "colab": {
          "base_uri": "https://localhost:8080/"
        },
        "id": "FP0YybEF_KKo",
        "outputId": "27956e01-ab5d-4a33-aff4-bf741a31f9f0"
      },
      "source": [
        "Vine_paid_df=Vine_helpful_df.filter('vine == True')\n",
        "Vine_paid_df.show()"
      ],
      "execution_count": 24,
      "outputs": [
        {
          "output_type": "stream",
          "text": [
            "+--------------+-----------+-------------+-----------+----+-----------------+\n",
            "|     review_id|star_rating|helpful_votes|total_votes|vine|verified_purchase|\n",
            "+--------------+-----------+-------------+-----------+----+-----------------+\n",
            "|R3QIQRG107AP19|          5|           38|         41|   Y|                N|\n",
            "|R1ZNBHGCYE8VN1|          5|          175|        181|   Y|                N|\n",
            "|R1BNZJ9IKGRBC2|          4|           63|         70|   Y|                N|\n",
            "|R2IXTN4PBRHBO2|          5|           19|         24|   Y|                N|\n",
            "|R32AOW3L09SYMQ|          5|           29|         34|   Y|                N|\n",
            "|R34Z4VTLF7PC6X|          4|           33|         36|   Y|                N|\n",
            "|R25403NE9JCRZZ|          2|           36|         40|   Y|                N|\n",
            "|R2QT2G3YRGC0PS|          5|           18|         20|   Y|                N|\n",
            "| RDUP15OURNUSA|          5|           22|         23|   Y|                N|\n",
            "|R1EI4NZTG7G14F|          5|           17|         23|   Y|                N|\n",
            "|R2G0YB0MC67NLG|          5|           29|         38|   Y|                N|\n",
            "| RGA1PHAE93JR2|          1|           16|         21|   Y|                N|\n",
            "|R1QS5MKSKOGG0U|          5|           15|         20|   Y|                N|\n",
            "|R3MVW880K2V5BK|          3|           37|         46|   Y|                N|\n",
            "|R11JKXPSMHSZY1|          4|           21|         28|   Y|                N|\n",
            "|  RSPSTXGY3OD8|          5|           29|         33|   Y|                N|\n",
            "| RQO0NNMNWRLB4|          3|           47|         54|   Y|                N|\n",
            "|R3H5BSP5KCFHBG|          4|           19|         21|   Y|                N|\n",
            "|R2AIJIWME1WDKN|          5|           16|         24|   Y|                N|\n",
            "| R585MGH89JZZ5|          5|           27|         34|   Y|                N|\n",
            "+--------------+-----------+-------------+-----------+----+-----------------+\n",
            "only showing top 20 rows\n",
            "\n"
          ],
          "name": "stdout"
        }
      ]
    },
    {
      "cell_type": "code",
      "metadata": {
        "colab": {
          "base_uri": "https://localhost:8080/"
        },
        "id": "0c4F2MLG_2q-",
        "outputId": "9d936ace-276f-4f40-9228-77e66cd847f7"
      },
      "source": [
        "Vine_unpaid_df=Vine_helpful_df.filter('vine ==False')\n",
        "Vine_unpaid_df.show()"
      ],
      "execution_count": 25,
      "outputs": [
        {
          "output_type": "stream",
          "text": [
            "+--------------+-----------+-------------+-----------+----+-----------------+\n",
            "|     review_id|star_rating|helpful_votes|total_votes|vine|verified_purchase|\n",
            "+--------------+-----------+-------------+-----------+----+-----------------+\n",
            "| RXAHWIC1584UQ|          5|           20|         23|   N|                Y|\n",
            "| RSBELAIC899DO|          5|           46|         51|   N|                Y|\n",
            "|R2HCC4CJ59D225|          4|           43|         43|   N|                Y|\n",
            "| RL9VF9WXHEHKR|          5|           35|         36|   N|                Y|\n",
            "|R1ZINLWUOLTZ46|          1|           39|         45|   N|                N|\n",
            "|R1CQKM1K1CHOHS|          1|           21|         22|   N|                N|\n",
            "| R2DHAM7J1KMWN|          5|           23|         24|   N|                N|\n",
            "|R26EZ2INBETPU2|          1|          103|        128|   N|                N|\n",
            "|R265ZMDO2ISN1O|          5|           20|         21|   N|                Y|\n",
            "|R3NZ7JTOCPYE1S|          4|           32|         33|   N|                Y|\n",
            "|R15JJ5AGVSB71T|          5|           33|         33|   N|                Y|\n",
            "|R28WDBNT2XRACG|          1|           19|         24|   N|                Y|\n",
            "|R3HP224QDFQ2SN|          5|           21|         22|   N|                Y|\n",
            "| RTURVI4KNPMG1|          5|          146|        154|   N|                Y|\n",
            "| RH2BXZ337F38J|          5|           62|         66|   N|                Y|\n",
            "|R3G8L2NRMZZHPI|          4|           23|         23|   N|                Y|\n",
            "|R21Q3I2ZEDSMZK|          5|           80|         84|   N|                Y|\n",
            "|R16MXXKY0MRKZW|          1|           48|         52|   N|                Y|\n",
            "|R121P6RES3Z7WC|          1|          145|        162|   N|                Y|\n",
            "|R1ILUNGUCRZGF3|          5|           21|         21|   N|                Y|\n",
            "+--------------+-----------+-------------+-----------+----+-----------------+\n",
            "only showing top 20 rows\n",
            "\n"
          ],
          "name": "stdout"
        }
      ]
    },
    {
      "cell_type": "code",
      "metadata": {
        "colab": {
          "base_uri": "https://localhost:8080/"
        },
        "id": "t4aXzfXVAOfY",
        "outputId": "6ba594ba-c138-467e-aa7d-fdca6f1f7f3b"
      },
      "source": [
        "#determine number of unpaid reviews\n",
        "Unpaid_reviews=Vine_unpaid_df.count()\n",
        "print(f'There were {Unpaid_reviews} unpaid reviews')\n"
      ],
      "execution_count": 34,
      "outputs": [
        {
          "output_type": "stream",
          "text": [
            "There were 31452 unpaid reviews\n"
          ],
          "name": "stdout"
        }
      ]
    },
    {
      "cell_type": "code",
      "metadata": {
        "colab": {
          "base_uri": "https://localhost:8080/"
        },
        "id": "KPKkB-xNAntT",
        "outputId": "cac8c6e4-54e7-4ce0-bd8a-66485376eb6b"
      },
      "source": [
        "#determine the number of unpaid 5-star reviews\n",
        "five_star_unpaid_reviews=Vine_unpaid_df.filter('star_rating==5').count()\n",
        "print(f'There were {five_star_unpaid_reviews} five star unpaid reviews')"
      ],
      "execution_count": 33,
      "outputs": [
        {
          "output_type": "stream",
          "text": [
            "There were 14603 five star unpaid reviews\n"
          ],
          "name": "stdout"
        }
      ]
    },
    {
      "cell_type": "code",
      "metadata": {
        "colab": {
          "base_uri": "https://localhost:8080/"
        },
        "id": "aK_2-3ZuBlV2",
        "outputId": "d299c49e-9b5e-456e-d074-de230023b14f"
      },
      "source": [
        "#determine percent of 5 stars from unpaid reviewers\n",
        "percent_unpaid=(five_star_unpaid_reviews/Unpaid_reviews)*100 \n",
        "print(f'{percent_unpaid} percent of the unpaid reviews were 5 stars')"
      ],
      "execution_count": 35,
      "outputs": [
        {
          "output_type": "stream",
          "text": [
            "46.42947984229938 percent of the unpaid reviews were 5 stars\n"
          ],
          "name": "stdout"
        }
      ]
    },
    {
      "cell_type": "code",
      "metadata": {
        "colab": {
          "base_uri": "https://localhost:8080/"
        },
        "id": "hCl2ZFyPCC62",
        "outputId": "24d216ce-2a53-4641-c9d3-ba09785882e9"
      },
      "source": [
        "#determine number of unpaid reviews\n",
        "Paid_reviews=Vine_paid_df.count()\n",
        "print(f'There were {Paid_reviews} paid reviews')\n",
        "\n",
        "#determine the number of unpaid 5-star reviews\n",
        "five_star_paid_reviews=Vine_paid_df.filter('star_rating==5').count()\n",
        "print(f'There were {five_star_paid_reviews} five star paid reviews')\n",
        "\n",
        "#determine percent of 5 stars from unpaid reviewers\n",
        "percent_paid=(five_star_paid_reviews/Paid_reviews)*100 \n",
        "print(f'{percent_paid} percent of the paid reviews were 5 stars')"
      ],
      "execution_count": 38,
      "outputs": [
        {
          "output_type": "stream",
          "text": [
            "There were 285 paid reviews\n",
            "There were 163 five star paid reviews\n",
            "57.19298245614035 percent of the paid reviews were 5 stars\n"
          ],
          "name": "stdout"
        }
      ]
    }
  ]
}